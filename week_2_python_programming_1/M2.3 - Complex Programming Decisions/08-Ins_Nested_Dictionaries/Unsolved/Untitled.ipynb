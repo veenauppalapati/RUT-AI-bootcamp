{
 "cells": [
  {
   "cell_type": "code",
   "execution_count": 6,
   "id": "f7429275-2112-4b6a-9f3c-f514879bc492",
   "metadata": {
    "execution": {
     "iopub.execute_input": "2024-09-20T00:57:59.660815Z",
     "iopub.status.busy": "2024-09-20T00:57:59.659815Z",
     "iopub.status.idle": "2024-09-20T00:57:59.667995Z",
     "shell.execute_reply": "2024-09-20T00:57:59.666992Z",
     "shell.execute_reply.started": "2024-09-20T00:57:59.660815Z"
    }
   },
   "outputs": [
    {
     "data": {
      "text/plain": [
       "[0, 1, 2, 3, 4, 5, 6, 7, 8, 9]"
      ]
     },
     "execution_count": 6,
     "metadata": {},
     "output_type": "execute_result"
    }
   ],
   "source": [
    "numbers = []\n",
    "\n",
    "for number in range(10):\n",
    "    numbers.append(number)\n",
    "\n",
    "numbers"
   ]
  },
  {
   "cell_type": "code",
   "execution_count": 8,
   "id": "9ce2417f-f376-4c8b-bb03-3ad092131f1a",
   "metadata": {
    "execution": {
     "iopub.execute_input": "2024-09-20T00:59:33.280681Z",
     "iopub.status.busy": "2024-09-20T00:59:33.280681Z",
     "iopub.status.idle": "2024-09-20T00:59:33.288883Z",
     "shell.execute_reply": "2024-09-20T00:59:33.287947Z",
     "shell.execute_reply.started": "2024-09-20T00:59:33.280681Z"
    }
   },
   "outputs": [
    {
     "data": {
      "text/plain": [
       "[0, 1, 2, 3, 4, 5, 6, 7, 8, 9]"
      ]
     },
     "execution_count": 8,
     "metadata": {},
     "output_type": "execute_result"
    }
   ],
   "source": [
    "numbers = [number for number in range(10)]\n",
    "numbers"
   ]
  },
  {
   "cell_type": "code",
   "execution_count": null,
   "id": "04030595-3f20-44b4-96ab-76209f74e3d9",
   "metadata": {},
   "outputs": [],
   "source": [
    "[something for something in container]"
   ]
  },
  {
   "cell_type": "code",
   "execution_count": null,
   "id": "d218feaa-155c-4ac6-8a90-b50c64dce209",
   "metadata": {},
   "outputs": [],
   "source": [
    "for something in container:\n",
    "    #do something"
   ]
  }
 ],
 "metadata": {
  "kernelspec": {
   "display_name": "Python 3 (ipykernel)",
   "language": "python",
   "name": "python3"
  },
  "language_info": {
   "codemirror_mode": {
    "name": "ipython",
    "version": 3
   },
   "file_extension": ".py",
   "mimetype": "text/x-python",
   "name": "python",
   "nbconvert_exporter": "python",
   "pygments_lexer": "ipython3",
   "version": "3.12.4"
  }
 },
 "nbformat": 4,
 "nbformat_minor": 5
}
