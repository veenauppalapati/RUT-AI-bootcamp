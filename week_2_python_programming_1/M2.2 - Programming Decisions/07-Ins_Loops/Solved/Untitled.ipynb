{
 "cells": [
  {
   "cell_type": "code",
   "execution_count": 15,
   "id": "e19a35b4-6d15-489d-a1bb-dae384f4a8ba",
   "metadata": {
    "execution": {
     "iopub.execute_input": "2024-09-18T00:42:25.860759Z",
     "iopub.status.busy": "2024-09-18T00:42:25.860759Z",
     "iopub.status.idle": "2024-09-18T00:42:25.866827Z",
     "shell.execute_reply": "2024-09-18T00:42:25.865822Z",
     "shell.execute_reply.started": "2024-09-18T00:42:25.860759Z"
    }
   },
   "outputs": [
    {
     "name": "stdout",
     "output_type": "stream",
     "text": [
      "adriana\n",
      "jill\n",
      "vass\n"
     ]
    }
   ],
   "source": [
    "my_list_of_numbers = [0,1,2,3,4]\n",
    "my_list_words = [\"adriana\", \"jill\", \"vass\"]\n",
    "\n",
    "for word in my_list_words:\n",
    "    print(word)"
   ]
  },
  {
   "cell_type": "code",
   "execution_count": 17,
   "id": "b66b894d-1fd2-4500-9b77-bd90f17dc345",
   "metadata": {
    "execution": {
     "iopub.execute_input": "2024-09-18T00:43:00.789797Z",
     "iopub.status.busy": "2024-09-18T00:43:00.788798Z",
     "iopub.status.idle": "2024-09-18T00:43:00.794567Z",
     "shell.execute_reply": "2024-09-18T00:43:00.793563Z",
     "shell.execute_reply.started": "2024-09-18T00:43:00.789797Z"
    }
   },
   "outputs": [
    {
     "name": "stdout",
     "output_type": "stream",
     "text": [
      "0 10\n",
      "1 11\n",
      "2 12\n",
      "3 13\n",
      "4 14\n"
     ]
    }
   ],
   "source": [
    "for number in my_list_of_numbers:\n",
    "    print(number, number + 10)"
   ]
  },
  {
   "cell_type": "code",
   "execution_count": 20,
   "id": "0fbaacbb-d6b9-4986-9474-8c9b8b9809e6",
   "metadata": {
    "execution": {
     "iopub.execute_input": "2024-09-18T01:21:23.307923Z",
     "iopub.status.busy": "2024-09-18T01:21:23.307923Z",
     "iopub.status.idle": "2024-09-18T01:21:23.313046Z",
     "shell.execute_reply": "2024-09-18T01:21:23.312038Z",
     "shell.execute_reply.started": "2024-09-18T01:21:23.307923Z"
    }
   },
   "outputs": [
    {
     "name": "stdout",
     "output_type": "stream",
     "text": [
      "0\n",
      "1\n",
      "2\n",
      "3\n",
      "4\n"
     ]
    }
   ],
   "source": [
    "my_list = range(len(my_list_of_numbers))\n",
    "\n",
    "for _ in my_list:\n",
    "    print(_)"
   ]
  },
  {
   "cell_type": "code",
   "execution_count": null,
   "id": "c6495ecc-44f8-44b1-bb82-7b6fc7bec639",
   "metadata": {},
   "outputs": [],
   "source": []
  }
 ],
 "metadata": {
  "kernelspec": {
   "display_name": "Python 3 (ipykernel)",
   "language": "python",
   "name": "python3"
  },
  "language_info": {
   "codemirror_mode": {
    "name": "ipython",
    "version": 3
   },
   "file_extension": ".py",
   "mimetype": "text/x-python",
   "name": "python",
   "nbconvert_exporter": "python",
   "pygments_lexer": "ipython3",
   "version": "3.12.4"
  }
 },
 "nbformat": 4,
 "nbformat_minor": 5
}
